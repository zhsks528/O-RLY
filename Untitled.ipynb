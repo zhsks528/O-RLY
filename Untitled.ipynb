{
 "cells": [
  {
   "cell_type": "code",
   "execution_count": 2,
   "metadata": {},
   "outputs": [],
   "source": [
    "import requests\n",
    "html = requests.get(\"https://dev.to/rly\").text"
   ]
  },
  {
   "cell_type": "code",
   "execution_count": 3,
   "metadata": {},
   "outputs": [],
   "source": [
    "from bs4 import BeautifulSoup\n",
    "soup = BeautifulSoup(html, 'html.parser')"
   ]
  },
  {
   "cell_type": "code",
   "execution_count": 9,
   "metadata": {
    "scrolled": true
   },
   "outputs": [
    {
     "name": "stdout",
     "output_type": "stream",
     "text": [
      "(85, 19, 93, 255)\n",
      "(113, 112, 110, 255)\n",
      "(128, 27, 42, 255)\n",
      "(184, 7, 33, 255)\n",
      "(101, 22, 28, 255)\n",
      "(80, 61, 189, 255)\n",
      "(225, 17, 5, 255)\n",
      "(6, 123, 176, 255)\n",
      "(247, 181, 0, 255)\n",
      "(0, 15, 118, 255)\n",
      "(168, 0, 155, 255)\n",
      "(0, 132, 69, 255)\n",
      "(0, 153, 157, 255)\n",
      "(1, 66, 132, 255)\n",
      "(177, 0, 52, 255)\n",
      "(55, 142, 25, 255)\n",
      "(133, 152, 0, 255)\n"
     ]
    }
   ],
   "source": [
    "import re\n",
    "for tag in soup.select('.color'):\n",
    "    code = tuple(map(int, re.findall(r'\\d+', tag['style'])))\n",
    "    print(code)"
   ]
  },
  {
   "cell_type": "code",
   "execution_count": 13,
   "metadata": {},
   "outputs": [
    {
     "name": "stdout",
     "output_type": "stream",
     "text": [
      "78525bytes\n",
      "56070bytes\n",
      "56710bytes\n",
      "63420bytes\n",
      "51284bytes\n",
      "49260bytes\n",
      "61771bytes\n",
      "47104bytes\n",
      "35406bytes\n",
      "38785bytes\n",
      "50292bytes\n",
      "44080bytes\n",
      "36040bytes\n",
      "32743bytes\n",
      "28730bytes\n",
      "60005bytes\n",
      "48193bytes\n",
      "26465bytes\n",
      "16967bytes\n",
      "83044bytes\n",
      "51262bytes\n",
      "51286bytes\n",
      "62658bytes\n",
      "45440bytes\n",
      "53451bytes\n",
      "66973bytes\n",
      "46176bytes\n",
      "56072bytes\n",
      "36732bytes\n",
      "57868bytes\n",
      "34010bytes\n",
      "27033bytes\n",
      "49383bytes\n",
      "46422bytes\n",
      "41254bytes\n",
      "60863bytes\n",
      "53463bytes\n",
      "57807bytes\n",
      "72061bytes\n",
      "46991bytes\n"
     ]
    }
   ],
   "source": [
    "for idx, tag in enumerate(soup.select('.animal img'), 1):\n",
    "    image_url = tag['src']\n",
    "    image_data = requests.get(image_url).content\n",
    "    image_name = '{}.png'.format(idx)\n",
    "    with open('image_name', 'wb') as f:\n",
    "        f.write(image_data)\n",
    "        print('{}bytes'.format(len(image_data)))"
   ]
  },
  {
   "cell_type": "code",
   "execution_count": 15,
   "metadata": {},
   "outputs": [],
   "source": []
  },
  {
   "cell_type": "code",
   "execution_count": null,
   "metadata": {},
   "outputs": [],
   "source": []
  }
 ],
 "metadata": {
  "kernelspec": {
   "display_name": "Python 3",
   "language": "python",
   "name": "python3"
  },
  "language_info": {
   "codemirror_mode": {
    "name": "ipython",
    "version": 3
   },
   "file_extension": ".py",
   "mimetype": "text/x-python",
   "name": "python",
   "nbconvert_exporter": "python",
   "pygments_lexer": "ipython3",
   "version": "3.6.5"
  }
 },
 "nbformat": 4,
 "nbformat_minor": 2
}
